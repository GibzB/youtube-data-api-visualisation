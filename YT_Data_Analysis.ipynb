{
  "cells": [
    {
      "cell_type": "code",
      "execution_count": null,
      "id": "82c754d4",
      "metadata": {
        "id": "82c754d4"
      },
      "outputs": [],
      "source": [
        "from googleapiclient.discovery import build\n",
        "import pandas as pd\n",
        "import seaborn as sns"
      ]
    },
    {
      "cell_type": "code",
      "execution_count": null,
      "id": "64a8ce37",
      "metadata": {
        "id": "64a8ce37"
      },
      "outputs": [],
      "source": [
        "api_key = {API_KEY}'\n",
        "#channel_id = 'UCnz-ZXXER4jOvuED5trXfEA'\n",
        "channel_ids = ['UCnz-ZXXER4jOvuED5trXfEA', # techTFQ\n",
        "               'UCLLw7jmFsvfIVaUFsLs8mlQ', # Luke Barousse \n",
        "               'UCiT9RITQ9PW6BhXK0y2jaeg', # Ken Jee\n",
        "               'UC7cs8q-gJRlGwj4A8OmCmXg', # Alex the analyst\n",
        "               'UC2UXDak6o7rBm23k3Vv5dww' # Tina Huang\n",
        "               'UC8Am29Ya-UUSjgwg8Vz-sgA', # Andrew Kibe\n",
        "               'UChBQgieUidXV1CmDxSdRm3g', # CitizenTV\n",
        "               'UC6rDXNuPbWlPN1MPggYLFkg', # VivianKenya\n",
        "               'UCKVsdeoHExltrWMuK0hOWmg', # KTN News Kenya\n",
        "               'UC2O6vD7gjgZIXKVegD6qOHA', # Bahati Kenya\n",
        "              ]\n",
        "\n",
        "youtube = build('youtube', 'v3', developerKey=api_key)"
      ]
    },
    {
      "cell_type": "markdown",
      "id": "2d96fcaa",
      "metadata": {
        "id": "2d96fcaa"
      },
      "source": [
        "## Function to get channel statistics"
      ]
    },
    {
      "cell_type": "code",
      "execution_count": null,
      "id": "bacbf3f9",
      "metadata": {
        "id": "bacbf3f9"
      },
      "outputs": [],
      "source": [
        "def get_channel_stats(youtube, channel_ids):\n",
        "    all_data = []\n",
        "    request = youtube.channels().list(\n",
        "                part='snippet,contentDetails,statistics',\n",
        "                id=','.join(channel_ids))\n",
        "    response = request.execute() \n",
        "    \n",
        "    for i in range(len(response['items'])):\n",
        "        data = dict(Channel_name = response['items'][i]['snippet']['title'],\n",
        "                    Subscribers = response['items'][i]['statistics']['subscriberCount'],\n",
        "                    Views = response['items'][i]['statistics']['viewCount'],\n",
        "                    Total_videos = response['items'][i]['statistics']['videoCount'],\n",
        "                    playlist_id = response['items'][i]['contentDetails']['relatedPlaylists']['uploads'])\n",
        "        all_data.append(data)\n",
        "    \n",
        "    return all_data"
      ]
    },
    {
      "cell_type": "code",
      "execution_count": null,
      "id": "e596dc28",
      "metadata": {
        "id": "e596dc28"
      },
      "outputs": [],
      "source": [
        "channel_statistics = get_channel_stats(youtube, channel_ids)"
      ]
    },
    {
      "cell_type": "code",
      "execution_count": null,
      "id": "9ee879bd",
      "metadata": {
        "id": "9ee879bd"
      },
      "outputs": [],
      "source": [
        "channel_data = pd.DataFrame(channel_statistics)"
      ]
    },
    {
      "cell_type": "code",
      "execution_count": null,
      "id": "153d9303",
      "metadata": {
        "colab": {
          "base_uri": "https://localhost:8080/",
          "height": 300
        },
        "id": "153d9303",
        "outputId": "25e807b5-5483-4fca-9738-a4ba5301ab8c"
      },
      "outputs": [],
      "source": [
        "channel_data"
      ]
    },
    {
      "cell_type": "code",
      "execution_count": null,
      "id": "a8a9ab78",
      "metadata": {
        "colab": {
          "base_uri": "https://localhost:8080/"
        },
        "id": "a8a9ab78",
        "outputId": "17141a7d-4cb4-4758-f960-286b9cd1837a"
      },
      "outputs": [],
      "source": [
        "channel_data['Subscribers'] = pd.to_numeric(channel_data['Subscribers'])\n",
        "channel_data['Views'] = pd.to_numeric(channel_data['Views'])\n",
        "channel_data['Total_videos'] = pd.to_numeric(channel_data['Total_videos'])\n",
        "channel_data.dtypes"
      ]
    },
    {
      "cell_type": "code",
      "execution_count": null,
      "id": "f416d4f7",
      "metadata": {
        "colab": {
          "base_uri": "https://localhost:8080/",
          "height": 513
        },
        "id": "f416d4f7",
        "outputId": "68a6d4c3-a878-471c-a1dd-6dcb25f0dca2"
      },
      "outputs": [],
      "source": [
        "sns.set(rc={'figure.figsize':(10,8)})\n",
        "ax = sns.barplot(x='Channel_name', y='Subscribers', data=channel_data)"
      ]
    },
    {
      "cell_type": "code",
      "execution_count": null,
      "id": "4987f22f",
      "metadata": {
        "colab": {
          "base_uri": "https://localhost:8080/",
          "height": 513
        },
        "id": "4987f22f",
        "outputId": "563a2479-d513-4dbd-9655-6b76c1ed3d7a"
      },
      "outputs": [],
      "source": [
        "ax = sns.barplot(x='Channel_name', y='Views', data=channel_data)"
      ]
    },
    {
      "cell_type": "code",
      "execution_count": null,
      "id": "48dbe64a",
      "metadata": {
        "colab": {
          "base_uri": "https://localhost:8080/",
          "height": 502
        },
        "id": "48dbe64a",
        "outputId": "6488f633-90ea-4356-91dd-dba21d0949fd"
      },
      "outputs": [],
      "source": [
        "ax = sns.barplot(x='Channel_name', y='Total_videos', data=channel_data)"
      ]
    },
    {
      "cell_type": "markdown",
      "id": "0aee6e25",
      "metadata": {
        "id": "0aee6e25"
      },
      "source": [
        "## Function to get video ids"
      ]
    },
    {
      "cell_type": "code",
      "execution_count": null,
      "id": "98ddb122",
      "metadata": {
        "colab": {
          "base_uri": "https://localhost:8080/",
          "height": 300
        },
        "id": "98ddb122",
        "outputId": "ea6c0f30-b151-439a-f4a2-cba274ca4de7"
      },
      "outputs": [],
      "source": [
        "channel_data"
      ]
    },
    {
      "cell_type": "code",
      "execution_count": null,
      "id": "82736d10",
      "metadata": {
        "id": "82736d10"
      },
      "outputs": [],
      "source": [
        "playlist_id = channel_data.loc[channel_data['Channel_name']=='Ken Jee', 'playlist_id'].iloc[0]"
      ]
    },
    {
      "cell_type": "code",
      "execution_count": null,
      "id": "16a7f31d",
      "metadata": {
        "id": "16a7f31d"
      },
      "outputs": [],
      "source": [
        "def get_video_ids(youtube, playlist_id):\n",
        "    \n",
        "    request = youtube.playlistItems().list(\n",
        "                part='contentDetails',\n",
        "                playlistId = playlist_id,\n",
        "                maxResults = 50)\n",
        "    response = request.execute()\n",
        "    \n",
        "    video_ids = []\n",
        "    \n",
        "    for i in range(len(response['items'])):\n",
        "        video_ids.append(response['items'][i]['contentDetails']['videoId'])\n",
        "        \n",
        "    next_page_token = response.get('nextPageToken')\n",
        "    more_pages = True\n",
        "    \n",
        "    while more_pages:\n",
        "        if next_page_token is None:\n",
        "            more_pages = False\n",
        "        else:\n",
        "            request = youtube.playlistItems().list(\n",
        "                        part='contentDetails',\n",
        "                        playlistId = playlist_id,\n",
        "                        maxResults = 50,\n",
        "                        pageToken = next_page_token)\n",
        "            response = request.execute()\n",
        "    \n",
        "            for i in range(len(response['items'])):\n",
        "                video_ids.append(response['items'][i]['contentDetails']['videoId'])\n",
        "            \n",
        "            next_page_token = response.get('nextPageToken')\n",
        "        \n",
        "    return video_ids"
      ]
    },
    {
      "cell_type": "code",
      "execution_count": null,
      "id": "b43d9f6d",
      "metadata": {
        "id": "b43d9f6d"
      },
      "outputs": [],
      "source": [
        "video_ids = get_video_ids(youtube, playlist_id)"
      ]
    },
    {
      "cell_type": "code",
      "execution_count": null,
      "id": "b494646c",
      "metadata": {
        "colab": {
          "base_uri": "https://localhost:8080/"
        },
        "id": "b494646c",
        "outputId": "760656c0-d55c-41b9-c65e-02fd450574fc"
      },
      "outputs": [],
      "source": [
        "video_ids"
      ]
    },
    {
      "cell_type": "markdown",
      "id": "5e4d7269",
      "metadata": {
        "id": "5e4d7269"
      },
      "source": [
        "## Function to get video details"
      ]
    },
    {
      "cell_type": "code",
      "execution_count": null,
      "id": "6f0678b5",
      "metadata": {
        "id": "6f0678b5"
      },
      "outputs": [],
      "source": [
        "def get_video_details(youtube, video_ids):\n",
        "    all_video_stats = []\n",
        "    \n",
        "    for i in range(0, len(video_ids), 50):\n",
        "        request = youtube.videos().list(\n",
        "                    part='snippet,statistics',\n",
        "                    id=','.join(video_ids[i:i+50]))\n",
        "        response = request.execute()\n",
        "        \n",
        "        for video in response['items']:\n",
        "            video_stats = dict(Title = video['snippet']['title'],\n",
        "                               Published_date = video['snippet']['publishedAt'],\n",
        "                               Views = video['statistics']['viewCount'],\n",
        "                               Likes = video['statistics']['likeCount'],\n",
        "                               Comments = video['statistics']['commentCount']\n",
        "                               )\n",
        "            all_video_stats.append(video_stats)\n",
        "    \n",
        "    return all_video_stats"
      ]
    },
    {
      "cell_type": "code",
      "execution_count": null,
      "id": "071b1776",
      "metadata": {
        "id": "071b1776",
        "scrolled": false
      },
      "outputs": [],
      "source": [
        "video_details = get_video_details(youtube, video_ids)"
      ]
    },
    {
      "cell_type": "code",
      "execution_count": null,
      "id": "b6cc7a6d",
      "metadata": {
        "id": "b6cc7a6d"
      },
      "outputs": [],
      "source": [
        "video_data = pd.DataFrame(video_details)"
      ]
    },
    {
      "cell_type": "code",
      "execution_count": null,
      "id": "92a7816d",
      "metadata": {
        "colab": {
          "base_uri": "https://localhost:8080/",
          "height": 424
        },
        "id": "92a7816d",
        "outputId": "faa8ae38-dc24-4817-e114-db055ba51103"
      },
      "outputs": [],
      "source": [
        "video_data['Published_date'] = pd.to_datetime(video_data['Published_date']).dt.date\n",
        "video_data['Views'] = pd.to_numeric(video_data['Views'])\n",
        "video_data['Likes'] = pd.to_numeric(video_data['Likes'])\n",
        "video_data['Views'] = pd.to_numeric(video_data['Views'])\n",
        "video_data"
      ]
    },
    {
      "cell_type": "code",
      "execution_count": null,
      "id": "SLFCYuFxnZOy",
      "metadata": {
        "colab": {
          "base_uri": "https://localhost:8080/",
          "height": 424
        },
        "id": "SLFCYuFxnZOy",
        "outputId": "760b6885-ed9e-4aa4-a18f-724e5b4c9818"
      },
      "outputs": [],
      "source": [
        "video_data"
      ]
    },
    {
      "cell_type": "code",
      "execution_count": null,
      "id": "aefaa638",
      "metadata": {
        "id": "aefaa638"
      },
      "outputs": [],
      "source": [
        "top10_videos = video_data.sort_values(by='Views', ascending=False).head(10)"
      ]
    },
    {
      "cell_type": "code",
      "execution_count": null,
      "id": "8ccdc503",
      "metadata": {
        "colab": {
          "base_uri": "https://localhost:8080/",
          "height": 363
        },
        "id": "8ccdc503",
        "outputId": "dc8a4afd-3fb5-4e20-9cfe-684de912fb2a"
      },
      "outputs": [],
      "source": [
        "top10_videos"
      ]
    },
    {
      "cell_type": "code",
      "execution_count": null,
      "id": "56fb165b",
      "metadata": {
        "colab": {
          "base_uri": "https://localhost:8080/",
          "height": 441
        },
        "id": "56fb165b",
        "outputId": "2df762c0-af25-480c-c4c7-5a74a338b7c4"
      },
      "outputs": [],
      "source": [
        "ax1 = sns.barplot(x='Views', y='Title', data=top10_videos)"
      ]
    },
    {
      "cell_type": "code",
      "execution_count": null,
      "id": "ccacdaf0",
      "metadata": {
        "colab": {
          "base_uri": "https://localhost:8080/",
          "height": 424
        },
        "id": "ccacdaf0",
        "outputId": "f756f6fc-796c-4950-c7ee-7dde3a0b0d31"
      },
      "outputs": [],
      "source": [
        "video_data"
      ]
    },
    {
      "cell_type": "code",
      "execution_count": null,
      "id": "c84256b0",
      "metadata": {
        "id": "c84256b0"
      },
      "outputs": [],
      "source": [
        "video_data['Month'] = pd.to_datetime(video_data['Published_date']).dt.strftime('%b')"
      ]
    },
    {
      "cell_type": "code",
      "execution_count": null,
      "id": "c539398c",
      "metadata": {
        "colab": {
          "base_uri": "https://localhost:8080/",
          "height": 424
        },
        "id": "c539398c",
        "outputId": "77f4ead6-cd55-4f51-fb64-2ba65e123742"
      },
      "outputs": [],
      "source": [
        "video_data"
      ]
    },
    {
      "cell_type": "code",
      "execution_count": null,
      "id": "62b8eed5",
      "metadata": {
        "id": "62b8eed5"
      },
      "outputs": [],
      "source": [
        "videos_per_month = video_data.groupby('Month', as_index=False).size()"
      ]
    },
    {
      "cell_type": "code",
      "execution_count": null,
      "id": "8fc5f839",
      "metadata": {
        "colab": {
          "base_uri": "https://localhost:8080/",
          "height": 426
        },
        "id": "8fc5f839",
        "outputId": "43e76710-cc7d-480d-8fad-1858efc20988"
      },
      "outputs": [],
      "source": [
        "videos_per_month"
      ]
    },
    {
      "cell_type": "code",
      "execution_count": null,
      "id": "6ba9292d",
      "metadata": {
        "id": "6ba9292d"
      },
      "outputs": [],
      "source": [
        "sort_order = ['Jan', 'Feb', 'Mar', 'Apr', 'May', 'Jun',\n",
        "             'Jul', 'Aug', 'Sep', 'Oct', 'Nov', 'Dec']"
      ]
    },
    {
      "cell_type": "code",
      "execution_count": null,
      "id": "54e4f291",
      "metadata": {
        "id": "54e4f291"
      },
      "outputs": [],
      "source": [
        "videos_per_month.index = pd.CategoricalIndex(videos_per_month['Month'], categories=sort_order, ordered=True)"
      ]
    },
    {
      "cell_type": "code",
      "execution_count": null,
      "id": "006039d6",
      "metadata": {
        "id": "006039d6"
      },
      "outputs": [],
      "source": [
        "videos_per_month = videos_per_month.sort_index()"
      ]
    },
    {
      "cell_type": "code",
      "execution_count": null,
      "id": "d8dec018",
      "metadata": {
        "colab": {
          "base_uri": "https://localhost:8080/",
          "height": 503
        },
        "id": "d8dec018",
        "outputId": "beb8c376-7a37-433e-9538-1a50b4c09f8e"
      },
      "outputs": [],
      "source": [
        "ax2 = sns.barplot(x='Month', y='size', data=videos_per_month)"
      ]
    },
    {
      "cell_type": "code",
      "execution_count": null,
      "id": "b8338c32",
      "metadata": {
        "id": "b8338c32"
      },
      "outputs": [],
      "source": [
        "video_data.to_csv('Video_Details(Ken Jee).csv')"
      ]
    },
    {
      "cell_type": "code",
      "execution_count": null,
      "id": "49635897",
      "metadata": {
        "id": "49635897"
      },
      "outputs": [],
      "source": []
    }
  ],
  "metadata": {
    "colab": {
      "name": "YT-Data-Analysis.ipynb",
      "provenance": []
    },
    "kernelspec": {
      "display_name": "Python 3.9.12 ('yt-env')",
      "language": "python",
      "name": "python3"
    },
    "language_info": {
      "codemirror_mode": {
        "name": "ipython",
        "version": 3
      },
      "file_extension": ".py",
      "mimetype": "text/x-python",
      "name": "python",
      "nbconvert_exporter": "python",
      "pygments_lexer": "ipython3",
      "version": "3.9.12"
    },
    "vscode": {
      "interpreter": {
        "hash": "9817b17e0e60ca0fc796e22ae14b173ae6ba15d953781ee105684766a9e456d8"
      }
    }
  },
  "nbformat": 4,
  "nbformat_minor": 5
}
